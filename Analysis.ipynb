{
 "cells": [
  {
   "cell_type": "code",
   "execution_count": 57,
   "metadata": {},
   "outputs": [],
   "source": [
    "import pandas as pd\n",
    "import numpy as np\n",
    "import seaborn as sns\n",
    "import matplotlib as plt"
   ]
  },
  {
   "cell_type": "code",
   "execution_count": 69,
   "metadata": {},
   "outputs": [],
   "source": [
    "df_desmatamento = pd.read_csv('desmatamento_ucs.csv', encoding='latin1', sep=\";\")\n",
    "df_especies = pd.read_csv('pda-especies_ameacadas.csv', encoding='latin1', sep=\";\")\n"
   ]
  },
  {
   "cell_type": "code",
   "execution_count": null,
   "metadata": {},
   "outputs": [],
   "source": [
    "df_especies_sem_null = df_especies.dropna(subset='Unidade de Conservação Federal')\n",
    "df_especies_sem_null = df_especies_sem_null[['Nome Científico', 'Nome Comum', 'Categoria', 'Estado', 'Região', 'Unidade de Conservação Federal']]\n",
    "df_especies_sem_null.at[58, 'Estado'] = 'Santa Catarina'\n",
    "df_especies_sem_null.at[58, 'Região'] = 'Sul'\n",
    "\n",
    "mask = df_especies_sem_null['Nome Comum'].isnull()\n",
    "df_especies_sem_null[mask]\n",
    "                   \n",
    "df_especies_sem_null.at[1105, 'Nome Comum'] = 'Cervo-do-pantanal'\n",
    "df_especies_sem_null.at[1125, 'Nome Comum'] = 'Morcego esfumaçado'\n",
    "df_especies_sem_null.at[1128, 'Nome Comum'] = 'Morcego orellha-de-funil'\n",
    "\n",
    "df_especies_sem_null\n"
   ]
  },
  {
   "cell_type": "code",
   "execution_count": null,
   "metadata": {},
   "outputs": [],
   "source": [
    "df_desmatamento_filtrado = df_desmatamento[['uc', '2021']]\n",
    "df_desmatamento_filtrado.rename(columns={'uc': 'Unidade de Conservação Federal'}, inplace=True)\n",
    "df_desmatamento_filtrado"
   ]
  },
  {
   "cell_type": "code",
   "execution_count": null,
   "metadata": {},
   "outputs": [],
   "source": [
    "df_dados_unificados = pd.merge(df_especies_sem_null, df_desmatamento_filtrado, how='outer', on = 'Unidade de Conservação Federal')\n",
    "df_dados_unificados"
   ]
  }
 ],
 "metadata": {
  "kernelspec": {
   "display_name": "Python 3",
   "language": "python",
   "name": "python3"
  },
  "language_info": {
   "codemirror_mode": {
    "name": "ipython",
    "version": 3
   },
   "file_extension": ".py",
   "mimetype": "text/x-python",
   "name": "python",
   "nbconvert_exporter": "python",
   "pygments_lexer": "ipython3",
   "version": "3.8.3"
  },
  "orig_nbformat": 4
 },
 "nbformat": 4,
 "nbformat_minor": 2
}
