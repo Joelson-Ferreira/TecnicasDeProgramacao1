{
 "cells": [
  {
   "cell_type": "markdown",
   "metadata": {},
   "source": [
    "# Importando bibliotecas"
   ]
  },
  {
   "cell_type": "code",
   "execution_count": 40,
   "metadata": {},
   "outputs": [],
   "source": [
    "import pandas as pd\n",
    "import numpy as np\n",
    "import seaborn as sns\n",
    "import matplotlib.pyplot as plt"
   ]
  },
  {
   "cell_type": "markdown",
   "metadata": {},
   "source": [
    "# Importando a base de dados"
   ]
  },
  {
   "cell_type": "code",
   "execution_count": null,
   "metadata": {},
   "outputs": [],
   "source": [
    "df_desmatamento = pd.read_csv('desmatamento_ucs.csv', encoding='latin1', sep=\";\")\n",
    "df_especies = pd.read_csv('pda-especies_ameacadas.csv', encoding='latin1', sep=\";\")\n",
    "\n",
    "df_desmatamento\n",
    "df_especies"
   ]
  },
  {
   "cell_type": "markdown",
   "metadata": {},
   "source": [
    "# Tratamento e limpeza dos dados"
   ]
  },
  {
   "cell_type": "code",
   "execution_count": null,
   "metadata": {},
   "outputs": [],
   "source": [
    "#tratamento da base de espécies\n",
    "## limpeza dos dados\n",
    "df_especies = df_especies[['Nome Científico', 'Nome Comum', 'Categoria', 'Grupo', 'Estado', 'Região', 'Bioma', 'Unidade de Conservação Federal']]\n",
    "\n",
    "df_especies_sem_null = df_especies.dropna(subset='Nome Científico') #limpeza dos dados nulos\n",
    "\n",
    "#tratamento das categorias repetidas / agrupamento\n",
    "mascara_vulneravel = df_especies_sem_null['Categoria'] == 'Vulnerável (VU)'\n",
    "df_especies_sem_null.loc[mascara_vulneravel, 'Categoria'] = 'Vulnerável'\n",
    "\n",
    "mascara_em_perigo = df_especies_sem_null['Categoria'] == 'Em Perigo (EN)'\n",
    "df_especies_sem_null.loc[mascara_em_perigo, 'Categoria'] = 'Em Perigo'\n",
    "\n",
    "mascara_criticamente_em_perigo = df_especies_sem_null['Categoria'] == 'Criticamente em Perigo (CR)'\n",
    "df_especies_sem_null.loc[mascara_criticamente_em_perigo, 'Categoria'] = 'Criticamente em Perigo'\n",
    "\n",
    "mascara_extinta= (df_especies_sem_null['Categoria'] == 'Regionalmente Extinta') | (df_especies_sem_null['Categoria'] == 'Extinta na Natureza')\n",
    "df_especies_sem_null.loc[mascara_extinta, 'Categoria'] = 'Extinta'\n",
    "\n",
    "df_especies_tratado = df_especies_sem_null\n",
    "\n",
    "df_especies_tratado"
   ]
  },
  {
   "cell_type": "code",
   "execution_count": 31,
   "metadata": {},
   "outputs": [],
   "source": [
    "#tratamento base de desmantamento\n",
    "# Como a coluna \"cnuc\" não tem informação relevante, excluiremos da base.\n",
    "df_desmatamento = df_desmatamento.drop(\"cnuc\",axis=1)\n",
    "\n",
    "# Coletando os índices das linhas onde na coluna \"prodes\" existe valor \"Não\" e obedece demais comparações\n",
    "index_names = df_desmatamento[ ((df_desmatamento['prodes'] == 'Não') & (df_desmatamento['2018'] == '12,5858')) | ((df_desmatamento['prodes'] == 'Não') & (df_desmatamento['2021'] == '33,4555')) | ((df_desmatamento['prodes'] == 'Não') & (df_desmatamento['2021'] == '3,2901'))].index\n",
    "\n",
    "df_3linhas = df_desmatamento.iloc[index_names]\n",
    "\n",
    "# Coletando os índices das linhas onde na coluna \"prodes\" existe valor \"Não\"\n",
    "index_names = df_desmatamento[df_desmatamento['prodes'] == 'Não'].index\n",
    "\n",
    "# Excluiremos as linhas com base no filtro anterior\n",
    "df_desmatamento.drop(index_names, inplace = True)\n",
    "\n",
    "#  Juntar (ou combinar) dois DataFrames com as mesmas colunas usando a função concat.\n",
    "df_desmatamento = pd.concat([df_desmatamento, df_3linhas], ignore_index=True)\n",
    "\n",
    "# Excluindo a coluna \"prodes\" pois não precisaremos mais dela\n",
    "df_desmatamento = df_desmatamento.drop(\"prodes\",axis=1)\n",
    "\n",
    "# Renomeando a coluna 'uc' para 'Unidade de Conservação Federal'\n",
    "df_desmatamento.rename(columns={'uc': 'Unidade de Conservação Federal'}, inplace=True)\n",
    "\n",
    "df_desmatamento['2021'] = df_desmatamento['2021'].str.replace(',', '.')\n",
    "df_desmatamento['2021'] = df_desmatamento['2021'].astype(np.float32)"
   ]
  },
  {
   "cell_type": "markdown",
   "metadata": {},
   "source": [
    "# Análise por grupos de espécies"
   ]
  },
  {
   "cell_type": "code",
   "execution_count": null,
   "metadata": {},
   "outputs": [],
   "source": [
    "#Distribuição das espécies por grupo\n",
    "ax = sns.countplot(data=df_especies_tratado, y='Grupo', order=df_especies_tratado['Grupo'].value_counts().index.tolist())\n",
    "# Definir o rótulo do eixo x\n",
    "ax.set_xlabel('Qtd de espécies')\n",
    "\n",
    "'''\n",
    "Com base no gráfico, é possível constatar que os grupos com maior incidência na lista de espécies ameaçadas \n",
    "são Peixes Continentais, Invertebrados Terrestres e Aves, respectivamente. Em contrapartida, os grupos menos preocupantes \n",
    "são os Mamíferos Aquáticos e Invertebrados Marinhos, respectivamente.\n",
    "'''"
   ]
  },
  {
   "cell_type": "code",
   "execution_count": null,
   "metadata": {},
   "outputs": [],
   "source": [
    "#Distribuição das espécies por grupo realicionadas ao risco de extinção\n",
    "ax = sns.countplot(data=df_especies_tratado, y='Grupo', hue='Categoria', order=df_especies_tratado['Grupo'].value_counts().index.tolist())\n",
    "# Definir o rótulo do eixo x\n",
    "ax.set_xlabel('Qtd de espécies')\n",
    "\n",
    "'''Com base no gráfico, é possível constatar que os únicos grupos que contém espécies extintas\n",
    " são: Aves, Anfíbios e Mamíferos, mas ainda assim com baixa incidência.'''"
   ]
  },
  {
   "cell_type": "code",
   "execution_count": null,
   "metadata": {},
   "outputs": [],
   "source": [
    "#Distribuição de espécies vulneráveis por grupo.\n",
    "df_vulneravel = df_especies_tratado[df_especies_tratado['Categoria'] == 'Vulnerável']\n",
    "ax1 = sns.countplot(data=df_vulneravel, y='Grupo', order=df_vulneravel['Grupo'].value_counts().index.tolist())\n",
    "# Definir o rótulo do eixo x\n",
    "ax1.set_xlabel('Qtd de espécies vulneráveis')"
   ]
  },
  {
   "cell_type": "code",
   "execution_count": null,
   "metadata": {},
   "outputs": [],
   "source": [
    "#Distribuição de espécies em perigo por grupo\n",
    "df_em_perigo = df_especies_tratado[df_especies_tratado['Categoria'] == 'Em Perigo']\n",
    "ax2 = sns.countplot(data=df_em_perigo, y='Grupo', order=df_em_perigo['Grupo'].value_counts().index.tolist())\n",
    "# Definir o rótulo do eixo x\n",
    "ax2.set_xlabel('Qtd de espécies em perigo')"
   ]
  },
  {
   "cell_type": "code",
   "execution_count": null,
   "metadata": {},
   "outputs": [],
   "source": [
    "#Distribuição de espécies criticamente em perigo por grupo\n",
    "df_criticamente_em_perigo = df_especies_tratado[df_especies_tratado['Categoria'] == 'Criticamente em Perigo']\n",
    "ax3 = sns.countplot(data=df_criticamente_em_perigo, y='Grupo', order=df_criticamente_em_perigo['Grupo'].value_counts().index.tolist())\n",
    "# Definir o rótulo do eixo x\n",
    "ax3.set_xlabel('Qtd de espécies criticamente em perigo')"
   ]
  },
  {
   "cell_type": "code",
   "execution_count": null,
   "metadata": {},
   "outputs": [],
   "source": [
    "#Distribuição de espécies extintas por grupo\n",
    "df_extinta = df_especies_tratado[df_especies_tratado['Categoria'] == 'Extinta']\n",
    "ax4 = sns.countplot(data=df_extinta, y='Grupo', order=df_extinta['Grupo'].value_counts().index.tolist())\n",
    "# Definir o rótulo do eixo x\n",
    "ax4.set_xlabel('Qtd de espécies extintas')"
   ]
  },
  {
   "cell_type": "markdown",
   "metadata": {},
   "source": [
    "# Análise por categoria de risco de extinção"
   ]
  },
  {
   "cell_type": "code",
   "execution_count": null,
   "metadata": {},
   "outputs": [],
   "source": [
    "#qual a quantidade de espécies por categoria de extinção?\n",
    "sns.countplot(df_especies_tratado, y=\"Categoria\", order = df_especies_tratado[\"Categoria\"].value_counts().index.tolist())\n",
    "\n",
    "'''\n",
    "insights:\n",
    "é possível observar que a população de espécies com um grau de risco de extinção mais elevado são menos numerosas\n",
    "que as espécies com um grau de risco de extinção menos elevado.\n",
    "\n",
    "'''"
   ]
  },
  {
   "cell_type": "code",
   "execution_count": 59,
   "metadata": {},
   "outputs": [
    {
     "data": {
      "text/plain": [
       "' \\ninsights:\\n\\nÉ possível observar não existe nenhuma espécie extinta que estava protegida em uma unidade de conservação federal\\nAlém disso, é possivel notar que as espécies com um grau de risco de extinção mais elevado estão em menor quantidade nas unidades de conservação, se comparadas\\nas espécies que não estão protegidas por uma unidade de conservação\\n'"
      ]
     },
     "execution_count": 59,
     "metadata": {},
     "output_type": "execute_result"
    },
    {
     "data": {
      "image/png": "[encoded data removed]",
      "text/plain": [
       "<Figure size 640x480 with 1 Axes>"
      ]
     },
     "metadata": {},
     "output_type": "display_data"
    }
   ],
   "source": [
    "#qual a quantidade de espécies por categoria de extinção em unidades de conservação?\n",
    "mascara_sem_uc = df_especies_tratado['Unidade de Conservação Federal'].isnull()\n",
    "mascara_com_uc = (~mascara_sem_uc)\n",
    "\n",
    "df_especies_com_coluna_ucf = df_especies_tratado\n",
    "df_especies_com_coluna_ucf['Localizada em UCF'] = mascara_com_uc\n",
    "df_especies_tratado.loc[mascara_com_uc, 'Localizada em UCF'] = 'Sim'\n",
    "df_especies_tratado.loc[mascara_sem_uc, 'Localizada em UCF'] = 'Não'\n",
    "\n",
    "df_especies_com_coluna_ucf['Localizada em UCF'].value_counts()\n",
    "\n",
    "sns.countplot(df_especies_com_coluna_ucf, y=\"Categoria\", hue='Localizada em UCF', order = df_especies_com_coluna_ucf[\"Categoria\"].value_counts().index.tolist())\n",
    "\n",
    "''' \n",
    "insights:\n",
    "\n",
    "É possível observar não existe nenhuma espécie extinta que estava protegida em uma unidade de conservação federal\n",
    "Além disso, é possivel notar que as espécies com um grau de risco de extinção mais elevado estão em menor quantidade nas unidades de conservação, se comparadas\n",
    "as espécies que não estão protegidas por uma unidade de conservação\n",
    "'''"
   ]
  },
  {
   "cell_type": "markdown",
   "metadata": {},
   "source": [
    "# Análise de desmantamento em Unidades de Conservação Federal"
   ]
  },
  {
   "cell_type": "code",
   "execution_count": null,
   "metadata": {},
   "outputs": [],
   "source": [
    "#média de desmatamento por bioma\n",
    "df_desmatamento.groupby('biocgfun')['2021'].mean().sort_values(ascending=False)"
   ]
  },
  {
   "cell_type": "code",
   "execution_count": null,
   "metadata": {},
   "outputs": [],
   "source": [
    "# Calc a média agrupada por biocgfun\n",
    "media_por_bioma = df_desmatamento.groupby('biocgfun')['2021'].mean().reset_index()\n",
    "\n",
    "\n",
    "sns.barplot(x='2021', y='biocgfun', data=media_por_bioma, palette='viridis')"
   ]
  },
  {
   "cell_type": "markdown",
   "metadata": {},
   "source": [
    "# Análise de espécies por bioma"
   ]
  },
  {
   "cell_type": "code",
   "execution_count": 36,
   "metadata": {},
   "outputs": [
    {
     "data": {
      "text/plain": [
       "'\\nPodemos observar que a quantidade de espécies em cada categoria é bem distribuida\\ndescrescendo levemente ao aumentar o grau de perigo da categoria, exceto em\\nextinto que são poucos as espécies estintas. \\n'"
      ]
     },
     "execution_count": 36,
     "metadata": {},
     "output_type": "execute_result"
    }
   ],
   "source": [
    "# espécies por bioma\n",
    "categoria_por_bioma = []\n",
    "\n",
    "biomas = ['Amazônia', 'Caatinga', 'Cerrado', 'Marinho', 'Mata Atlântica', 'Pampa', 'Pantanal', 'Desconhecido']\n",
    "\n",
    "for i in biomas:\n",
    "    vulneravel_por_bioma = 0\n",
    "    perigo_por_bioma = 0\n",
    "    criticamente_em_perigo_por_bioma = 0\n",
    "    extinta_por_bioma = 0\n",
    "\n",
    "    index_linha = -1\n",
    "    for j in df_especies_tratado['Bioma'].astype(str):\n",
    "        index_linha = index_linha + 1\n",
    "        if j.count(i) == 0:\n",
    "            continue     \n",
    "           \n",
    "        if df_especies_tratado['Categoria'][index_linha] == 'Vulnerável':\n",
    "            vulneravel_por_bioma = vulneravel_por_bioma + 1\n",
    "        elif df_especies_tratado['Categoria'][index_linha] == 'Em Perigo':\n",
    "            perigo_por_bioma = perigo_por_bioma + 1           \n",
    "        elif df_especies_tratado['Categoria'][index_linha] == 'Criticamente em Perigo':\n",
    "            criticamente_em_perigo_por_bioma = criticamente_em_perigo_por_bioma + 1\n",
    "        elif df_especies_tratado['Categoria'][index_linha] == 'Extinta':\n",
    "            extinta_por_bioma = extinta_por_bioma + 1\n",
    "    quantidade_total = vulneravel_por_bioma + perigo_por_bioma + criticamente_em_perigo_por_bioma + extinta_por_bioma\n",
    "    categoria_por_bioma.append([i, quantidade_total, vulneravel_por_bioma, perigo_por_bioma, criticamente_em_perigo_por_bioma, extinta_por_bioma])\n",
    "\n",
    "df_biomas = pd.DataFrame(categoria_por_bioma, columns=['Bioma', 'Quantidade de Espécies', 'Vulnerável', 'Em Perigo', 'Criticamente em Perigo', 'Extinta'])\n",
    "\n",
    "'''\n",
    "Podemos observar que a quantidade de espécies em cada categoria é bem distribuida\n",
    "descrescendo levemente ao aumentar o grau de perigo da categoria, exceto em\n",
    "extinto que são poucos as espécies estintas. \n",
    "'''"
   ]
  },
  {
   "cell_type": "code",
   "execution_count": null,
   "metadata": {},
   "outputs": [],
   "source": [
    "# Gráfico da quantidade de espécies por bioma\n",
    "df_biomas = df_biomas.sort_values(by='Quantidade de Espécies', ascending=False)\n",
    "sns.barplot(df_biomas, x=\"Quantidade de Espécies\", y=\"Bioma\", estimator=np.median, errorbar=None)"
   ]
  },
  {
   "cell_type": "code",
   "execution_count": null,
   "metadata": {},
   "outputs": [],
   "source": [
    "# Gráfico da quantidade de espécies na categoria vunerável por bioma\n",
    "plt.figure()\n",
    "df_biomas = df_biomas.sort_values(by='Vulnerável', ascending=False)\n",
    "sns.barplot(df_biomas, x=\"Vulnerável\", y=\"Bioma\",errorbar=None)"
   ]
  },
  {
   "cell_type": "code",
   "execution_count": null,
   "metadata": {},
   "outputs": [],
   "source": [
    "# Gráfico da quantidade de espécies na categoria em perigo por bioma\n",
    "plt.figure()\n",
    "df_biomas = df_biomas.sort_values(by='Em Perigo', ascending=False)\n",
    "sns.barplot(df_biomas, x=\"Em Perigo\", y=\"Bioma\", errorbar=None)"
   ]
  },
  {
   "cell_type": "code",
   "execution_count": null,
   "metadata": {},
   "outputs": [],
   "source": [
    "# Gráfico da quantidade de espécies na categoria criticamente em perigo por bioma\n",
    "plt.figure()\n",
    "df_biomas = df_biomas.sort_values(by='Criticamente em Perigo', ascending=False)\n",
    "sns.barplot(df_biomas, x=\"Criticamente em Perigo\", y=\"Bioma\", errorbar=None)"
   ]
  },
  {
   "cell_type": "code",
   "execution_count": null,
   "metadata": {},
   "outputs": [],
   "source": [
    "# Gráfico da quantidade de espécies na categoria extinta por bioma\n",
    "plt.figure()\n",
    "df_biomas = df_biomas.sort_values(by='Extinta', ascending=False)\n",
    "sns.barplot(df_biomas, x=\"Extinta\", y=\"Bioma\",errorbar=None)"
   ]
  },
  {
   "cell_type": "markdown",
   "metadata": {},
   "source": [
    "# Análise de espécies por estado"
   ]
  },
  {
   "cell_type": "code",
   "execution_count": null,
   "metadata": {},
   "outputs": [],
   "source": [
    "# qual a quantidade de espécies por estado?\n",
    "\n",
    "\n",
    "categoria_por_estado = []\n",
    "\n",
    "estados = [\"Acre\", \"Alagoas\", \"Amapá\", \"Amazonas\", \"Bahia\", \"Ceará\",\n",
    "    \"Distrito Federal\", \"Espírito Santo\", \"Goiás\", \"Maranhão\",\n",
    "    \"Mato Grosso\", \"Mato Grosso do Sul\", \"Minas Gerais\",\n",
    "    \"Pará\", \"Paraíba\", \"Paraná\", \"Pernambuco\", \"Piauí\", \"Rio de Janeiro\",\n",
    "    \"Rio Grande do Norte\", \"Rio Grande do Sul\", \"Rondônia\", \"Roraima\",\n",
    "    \"Santa Catarina\", \"São Paulo\", \"Sergipe\", \"Tocantins\"]\n",
    "\n",
    "for i in estados:\n",
    "    vulneravel_por_estado = 0\n",
    "    perigo_por_estado = 0\n",
    "    criticamente_em_perigo_por_estado = 0\n",
    "    extinta_por_estado = 0\n",
    "\n",
    "    index_linha = -1\n",
    "    for j in df_especies_tratado['Estado'].astype(str):\n",
    "        index_linha = index_linha + 1\n",
    "        if j.count(i) == 0:\n",
    "            continue     \n",
    "           \n",
    "        if df_especies_tratado['Categoria'][index_linha] == 'Vulnerável':\n",
    "            vulneravel_por_estado = vulneravel_por_estado + 1\n",
    "        elif df_especies_tratado['Categoria'][index_linha] == 'Em Perigo':\n",
    "            perigo_por_estado = perigo_por_estado + 1           \n",
    "        elif df_especies_tratado['Categoria'][index_linha] == 'Criticamente em Perigo':\n",
    "            criticamente_em_perigo_por_estado = criticamente_em_perigo_por_estado + 1\n",
    "        elif df_especies_tratado['Categoria'][index_linha] == 'Extinta':\n",
    "            extinta_por_estado = extinta_por_estado + 1\n",
    "    quantidade_total = vulneravel_por_estado + perigo_por_estado + criticamente_em_perigo_por_estado + extinta_por_estado\n",
    "    categoria_por_estado.append([i, quantidade_total, vulneravel_por_estado, perigo_por_estado, criticamente_em_perigo_por_estado, extinta_por_estado])\n",
    "\n",
    "df_estados = pd.DataFrame(categoria_por_estado, columns=['Estado', 'Quantidade de Espécies', 'Vulnerável', 'Em Perigo', 'Criticamente em Perigo', 'Extinta'])\n",
    "df_estados\n",
    "\n",
    "df_estados = df_estados.sort_values(by='Quantidade de Espécies', ascending=False)\n",
    "sns.barplot(df_estados, x=\"Quantidade de Espécies\", y=\"Estado\", errorbar=None)\n",
    "\n",
    "'''\n",
    "Insights:\n",
    "é possível observar que Bahia, Minas Gerais e São Paulo são os estados com maior número de espécies em risco,\n",
    "enquanto Acre, Roraima e Amapá são os estados com o menor número\n",
    "\n",
    "'''\n",
    "\n"
   ]
  },
  {
   "cell_type": "code",
   "execution_count": null,
   "metadata": {},
   "outputs": [],
   "source": [
    "# qual a quantidade de espécies consideradas vulneráveis por estado?\n",
    "\n",
    "\n",
    "df_estados = df_estados.sort_values(by='Vulnerável', ascending=False)\n",
    "sns.barplot(df_estados, x=\"Vulnerável\", y=\"Estado\", errorbar=None)\n",
    "\n",
    "'''\n",
    "Insights:\n",
    "é possível notar que Pará, Minas Gerais, Bahia e São Paulo são os estados com maior número de espécies consideradas vulneráveis.\n",
    "Todos esses 4 estados estão no top5 dos que apresentam a maior quantidade de espécies.\n",
    "\n",
    "enquanto Amapá, Sergipe e Distrito Federal são o que apresentam menor número\n",
    "'''"
   ]
  },
  {
   "cell_type": "code",
   "execution_count": null,
   "metadata": {},
   "outputs": [],
   "source": [
    "# qual a quantidade de espécies consideradas em perigo por estado?\n",
    "\n",
    "\n",
    "df_estados = df_estados.sort_values(by='Em Perigo', ascending=False)\n",
    "sns.barplot(df_estados, x=\"Em Perigo\", y=\"Estado\", errorbar=None)\n",
    "\n",
    "'''\n",
    "insights:\n",
    "é possível observar que Bahia, Minas Gerais e São Paulo são os estados com maior número de espécies em perigo,\n",
    "esses três estados também pertence ao top3 geral\n",
    "\n",
    "Acre, Amapá e Rondônia possuem os menores índices.\n",
    "\n",
    "'''"
   ]
  },
  {
   "cell_type": "code",
   "execution_count": null,
   "metadata": {},
   "outputs": [],
   "source": [
    "# qual a quantidade de espécies consideradas criticamente em perigo por estado?\n",
    "\n",
    "\n",
    "df_estados = df_estados.sort_values(by='Criticamente em Perigo', ascending=False)\n",
    "sns.barplot(df_estados, x=\"Criticamente em Perigo\", y=\"Estado\", errorbar=None)\n",
    "\n",
    "'''\n",
    "é possível observar que Minas Gerais, São Paulo e Rio de Janeiro são os estados com maior número de espécies em risco,\n",
    "eles também lideram o top5 dos espécies gerais\n",
    "\n",
    "Acre, Rondônia e Roraima são os que apresentam menos\n",
    "'''"
   ]
  },
  {
   "cell_type": "code",
   "execution_count": null,
   "metadata": {},
   "outputs": [],
   "source": [
    "# qual a quantidade de espécies consideradas extintas por estado?\n",
    "\n",
    "df_estados = df_estados.sort_values(by='Extinta', ascending=False)\n",
    "sns.barplot(df_estados, x=\"Extinta\", y=\"Estado\", errorbar=None)\n",
    "\n",
    "'''\n",
    "Só há espécies extintas em 8 estados Brasileiros, sendo eles: ...\n",
    "São Paulo, mais uma vez, lidera o ranking.\n",
    "'''"
   ]
  },
  {
   "cell_type": "markdown",
   "metadata": {},
   "source": [
    "# Análise por região"
   ]
  },
  {
   "cell_type": "code",
   "execution_count": null,
   "metadata": {},
   "outputs": [],
   "source": [
    "# criando novo dataframe por regioes\n",
    "\n",
    "categoria_por_regiao = []\n",
    "\n",
    "regioes = [\"Sul\", \"Sudeste\", \"Centro-Oeste\", \"Nordeste\", \"Norte\"]\n",
    "\n",
    "for i in regioes:\n",
    "    vulneravel_por_regiao = 0\n",
    "    perigo_por_regiao = 0\n",
    "    criticamente_em_perigo_por_regiao = 0\n",
    "    extinta_por_regiao = 0\n",
    "\n",
    "    index_linha = -1\n",
    "    for j in df_especies_tratado['Região'].astype(str):\n",
    "        index_linha = index_linha + 1\n",
    "        if j.count(i) == 0:\n",
    "            continue\n",
    "\n",
    "        if df_especies_tratado['Categoria'][index_linha] == 'Vulnerável':\n",
    "            vulneravel_por_regiao = vulneravel_por_regiao + 1\n",
    "        elif df_especies_tratado['Categoria'][index_linha] == 'Em Perigo':\n",
    "            perigo_por_regiao = perigo_por_regiao + 1\n",
    "        elif df_especies_tratado['Categoria'][index_linha] == 'Criticamente em Perigo':\n",
    "            criticamente_em_perigo_por_regiao = criticamente_em_perigo_por_regiao + 1\n",
    "        elif df_especies_tratado['Categoria'][index_linha] == 'Extinta':\n",
    "            extinta_por_regiao = extinta_por_regiao + 1\n",
    "    quantidade_total = vulneravel_por_regiao + perigo_por_regiao + criticamente_em_perigo_por_regiao + extinta_por_regiao\n",
    "    categoria_por_regiao.append([i, quantidade_total, vulneravel_por_regiao, perigo_por_regiao, criticamente_em_perigo_por_regiao, extinta_por_regiao])\n",
    "\n",
    "df_regioes = pd.DataFrame(categoria_por_regiao, columns=['Região', 'Quantidade de Espécies', 'Vulnerável', 'Em Perigo', 'Criticamente em Perigo', 'Extinta'])\n",
    "df_regioes\n",
    "\n",
    "df_regioes = df_regioes.sort_values(by='Quantidade de Espécies', ascending=False)\n",
    "sns.barplot(df_regioes, x=\"Quantidade de Espécies\", y=\"Região\", estimator=np.median, errorbar=None)"
   ]
  },
  {
   "cell_type": "code",
   "execution_count": null,
   "metadata": {},
   "outputs": [],
   "source": [
    "#qual a quantidade de espécies vulneráveis por região?\n",
    "df_regioes = df_regioes.sort_values(by='Vulnerável', ascending=False)\n",
    "sns.barplot(df_regioes, x=\"Vulnerável\", y=\"Região\", errorbar=None)"
   ]
  },
  {
   "cell_type": "code",
   "execution_count": null,
   "metadata": {},
   "outputs": [],
   "source": [
    "#qual a quantidade de espécies em perigo por região?\n",
    "df_regioes = df_regioes.sort_values(by='Em Perigo', ascending=False)\n",
    "sns.barplot(df_regioes, x=\"Em Perigo\", y=\"Região\", errorbar=None)"
   ]
  },
  {
   "cell_type": "code",
   "execution_count": null,
   "metadata": {},
   "outputs": [],
   "source": [
    "#qual a quantidade de espécies criticamente em perigo por região?\n",
    "df_regioes = df_regioes.sort_values(by='Criticamente em Perigo', ascending=False)\n",
    "sns.barplot(df_regioes, x=\"Criticamente em Perigo\", y=\"Região\",errorbar=None)"
   ]
  },
  {
   "cell_type": "code",
   "execution_count": null,
   "metadata": {},
   "outputs": [],
   "source": [
    "#qual a quantidade de espécies consideradas extintas por região?\n",
    "df_regioes = df_regioes.sort_values(by='Extinta', ascending=False)\n",
    "sns.barplot(df_regioes, x=\"Extinta\", y=\"Região\", errorbar=None)"
   ]
  }
 ],
 "metadata": {
  "kernelspec": {
   "display_name": "Python 3",
   "language": "python",
   "name": "python3"
  },
  "language_info": {
   "codemirror_mode": {
    "name": "ipython",
    "version": 3
   },
   "file_extension": ".py",
   "mimetype": "text/x-python",
   "name": "python",
   "nbconvert_exporter": "python",
   "pygments_lexer": "ipython3",
   "version": "3.8.3"
  },
  "orig_nbformat": 4
 },
 "nbformat": 4,
 "nbformat_minor": 2
}
